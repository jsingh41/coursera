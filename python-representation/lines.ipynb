{
 "cells": [
  {
   "cell_type": "code",
   "execution_count": 5,
   "metadata": {},
   "outputs": [
    {
     "name": "stdout",
     "output_type": "stream",
     "text": [
      "Juli\n",
      "==^\n",
      "Juhi\n"
     ]
    }
   ],
   "source": [
    "def singleline_diff(line1, line2):\n",
    "    \"\"\"\n",
    "    Inputs:\n",
    "      line1 - first single line string\n",
    "      line2 - second single line string\n",
    "    Output:\n",
    "      Returns the index where the first difference between \n",
    "      line1 and line2 occurs.\n",
    "\n",
    "      Returns IDENTICAL if the two lines are the same.\n",
    "    \"\"\"\n",
    "    min_len = min(len(line1), len(line2))\n",
    "    if len(line1) == len(line2):\n",
    "        bool_len = True\n",
    "    else:\n",
    "        bool_len = False\n",
    "    for ind in range(min_len):\n",
    "        if line1[ind] != line2[ind]:\n",
    "            return (ind)\n",
    "    if ind == min_len - 1 and bool_len:\n",
    "        return ('IDENTICAL')\n",
    "    else:\n",
    "        return (ind)\n",
    "\n",
    "def singleline_diff_format(line1, line2, idx):\n",
    "    \"\"\"\n",
    "    Inputs:\n",
    "      line1 - first single line string\n",
    "      line2 - second single line string\n",
    "      idx   - index at which to indicate difference\n",
    "    Output:\n",
    "      Returns a three line formatted string showing the location\n",
    "      of the first difference between line1 and line2.\n",
    "      \n",
    "      If either input line contains a newline or carriage return, \n",
    "      then returns an empty string.\n",
    "\n",
    "      If idx is not a valid index, then returns an empty string.\n",
    "    \"\"\"\n",
    "    if '\\n' in line1 or '\\n' in line2 or '\\r' in line1 or '\\r' in line2:\n",
    "        return ('')\n",
    "    string = line1 + '\\n'\n",
    "    for ind in range(idx):\n",
    "        string = string + '='\n",
    "    string = string + '^\\n' + line2\n",
    "    print (string)\n",
    "\n",
    "# singleline_diff_format('Juli', 'Juhi',2)  \n",
    "\n",
    "def multiline_diff(lines1, lines2):\n",
    "    \"\"\"\n",
    "    Inputs:\n",
    "      lines1 - list of single line strings\n",
    "      lines2 - list of single line strings\n",
    "    Output:\n",
    "      Returns a tuple containing the line number (starting from 0) and\n",
    "      the index in that line where the first difference between lines1\n",
    "      and lines2 occurs.\n",
    "      \n",
    "      Returns (IDENTICAL, IDENTICAL) if the two lists are the same.\n",
    "    \"\"\"\n",
    "    \n",
    "\n",
    "            "
   ]
  },
  {
   "cell_type": "code",
   "execution_count": 1,
   "metadata": {},
   "outputs": [
    {
     "name": "stdout",
     "output_type": "stream",
     "text": [
      "a\n"
     ]
    }
   ],
   "source": []
  },
  {
   "cell_type": "code",
   "execution_count": null,
   "metadata": {},
   "outputs": [],
   "source": []
  }
 ],
 "metadata": {
  "kernelspec": {
   "display_name": "Python 3",
   "language": "python",
   "name": "python3"
  },
  "language_info": {
   "codemirror_mode": {
    "name": "ipython",
    "version": 3
   },
   "file_extension": ".py",
   "mimetype": "text/x-python",
   "name": "python",
   "nbconvert_exporter": "python",
   "pygments_lexer": "ipython3",
   "version": "3.6.6"
  }
 },
 "nbformat": 4,
 "nbformat_minor": 2
}
