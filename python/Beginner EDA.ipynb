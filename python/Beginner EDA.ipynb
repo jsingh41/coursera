{
  "cells": [
    {
      "metadata": {
        "_cell_guid": "b1076dfc-b9ad-4769-8c92-a6c4dae69d19",
        "_uuid": "8f2839f25d086af736a60e9eeb907d3b93b6e0e5",
        "trusted": true
      },
      "cell_type": "code",
      "source": "# This Python 3 environment comes with many helpful analytics libraries installed\n# It is defined by the kaggle/python docker image: https://github.com/kaggle/docker-python\n# For example, here's several helpful packages to load in \n\nimport numpy as np # linear algebra\nimport pandas as pd # data processing, CSV file I/O (e.g. pd.read_csv)\n\nimport matplotlib.pyplot as plt\nimport seaborn as sns\nsns.set_style('whitegrid')\nsns.set_palette('Paired')\n\n# Input data files are available in the \"../input/\" directory.\n# For example, running this (by clicking run or pressing Shift+Enter) will list the files in the input directory\n\nimport os\nfrom os.path import join\nprint(os.listdir(\"../input\"))\npath = \"../input\"\n\n# Any results you write to the current directory are saved as output.",
      "execution_count": null,
      "outputs": []
    },
    {
      "metadata": {
        "_uuid": "20a45b97c0e4a78e61b9a8e6831e6db882fc99d3"
      },
      "cell_type": "markdown",
      "source": "## Reading the data"
    },
    {
      "metadata": {
        "_cell_guid": "79c7e3d0-c299-4dcb-8224-4455121ee9b0",
        "_uuid": "d629ff2d2480ee46fbb7e2d37f6b5fab8052498a",
        "trusted": true
      },
      "cell_type": "code",
      "source": "df = pd.read_csv(join(path, 'survey_results_public.csv'), low_memory=False)",
      "execution_count": null,
      "outputs": []
    },
    {
      "metadata": {
        "_uuid": "e19401be5f961a131b66db89365215e8500fb408",
        "trusted": false
      },
      "cell_type": "code",
      "source": "df.head(1)",
      "execution_count": null,
      "outputs": []
    },
    {
      "metadata": {
        "_uuid": "8941622b1d77a8d855c998c9e7527b419045585f",
        "trusted": false
      },
      "cell_type": "code",
      "source": "pd.options.display.max_colwidth = 400\nschema = pd.read_csv(join(path, 'survey_results_schema.csv'), low_memory=False)",
      "execution_count": null,
      "outputs": []
    },
    {
      "metadata": {
        "_uuid": "79589d1241428235a22d12781846a378d402666d"
      },
      "cell_type": "markdown",
      "source": "# Helping functions"
    },
    {
      "metadata": {
        "_uuid": "3cc4668e29c91b5362b13b4d2685a5b1cf7d8855",
        "trusted": false
      },
      "cell_type": "code",
      "source": "def plot_categorical_count(df, column, title='', limit=2, xtick_rotation='horizontal'):\n    column_count = df[column].value_counts()[:limit]\n    \n    fig = plt.figure(figsize=(14, 8))\n    sns.barplot(x=column_count.index, y=column_count.values, palette='Paired')\n    sns.despine(left=True)\n    plt.title(title, fontsize=16)\n    plt.xticks(rotation=xtick_rotation)\n\ndef plot_heatmap(df, variable):\n    l = []\n    for name, group in top10_df.groupby('Country'):\n        dff = pd.DataFrame(group[variable].value_counts() / group[variable].count()) \n        dff['Country'] = name\n        dff['rate'] = dff.index\n        l.append(dff)\n    fig = plt.figure(figsize=(14, 8))\n    df_2 = pd.concat(l)\n    dff = df_2.pivot_table(index='Country', columns='rate')\n    sns.heatmap(dff, cmap=\"YlGnBu\", linewidths=.3)",
      "execution_count": null,
      "outputs": []
    },
    {
      "metadata": {
        "_uuid": "e9f4ca659b1a23a2885a922dfe50122d6640333b"
      },
      "cell_type": "markdown",
      "source": "# Top 10 Countries "
    },
    {
      "metadata": {
        "_uuid": "d5dbe12987500e3bc94c7d35067a337495bb1dea",
        "trusted": false
      },
      "cell_type": "code",
      "source": "plot_categorical_count(df, column='Country', title='Number of respondant per country', limit=10)",
      "execution_count": null,
      "outputs": []
    },
    {
      "metadata": {
        "_uuid": "78b7f31793ba3b7e580a8cf41445521b2c362c83"
      },
      "cell_type": "markdown",
      "source": "> We can see that the USA is the country with the most respondant"
    },
    {
      "metadata": {
        "_uuid": "aa8eb96cac2e832055ff8b6ebe90bb0cc834e163",
        "collapsed": true
      },
      "cell_type": "markdown",
      "source": "# Hobbiest or Not"
    },
    {
      "metadata": {
        "_uuid": "d135384a6edf38eaa0393d35b85559abafaac001",
        "trusted": false
      },
      "cell_type": "code",
      "source": "plot_categorical_count(df, 'Hobby', title='Number of respondent who code as a hobby vs who don\\'t')",
      "execution_count": null,
      "outputs": []
    },
    {
      "metadata": {
        "_uuid": "67b65507ec7e05826e43aec237afc9a743e509cb"
      },
      "cell_type": "markdown",
      "source": "> Majority of the respondants code as a hobby."
    },
    {
      "metadata": {
        "_uuid": "068b68ad4e6647351de4b3f9b756af9d0c247a71"
      },
      "cell_type": "markdown",
      "source": "# Open Source contributour"
    },
    {
      "metadata": {
        "_uuid": "3e63e3047eb32fd2d476bb5ad71b2aeb35ccb467",
        "trusted": false
      },
      "cell_type": "code",
      "source": "plot_categorical_count(df, 'OpenSource', title='Number of Open Source Contributour')\n",
      "execution_count": null,
      "outputs": []
    },
    {
      "metadata": {
        "_uuid": "b72e736b2850ea420c2db462668321829c48450f",
        "collapsed": true
      },
      "cell_type": "markdown",
      "source": "> The number of respondants who dpn't contribute to Open Source is higher than those who don't "
    },
    {
      "metadata": {
        "_uuid": "ba72db963d95402d5f9a2f5f582f8b76c68eef83"
      },
      "cell_type": "markdown",
      "source": "# Does coding as a hobby affect contributing to Open Source ??"
    },
    {
      "metadata": {
        "_uuid": "a26871bebdb95e467fa21570d4f8b306cd6cbd19",
        "trusted": false
      },
      "cell_type": "code",
      "source": "open_source_count = df['OpenSource'].value_counts()\n\nplt.figure(figsize=(14, 8))\nsns.countplot(df['Hobby'], palette='Paired', hue=df['OpenSource'])\nsns.despine(left=True)\nplt.title('Number of Open Source Contributour', fontsize=16)",
      "execution_count": null,
      "outputs": []
    },
    {
      "metadata": {
        "_uuid": "0d498786fc6d8780861b7348b5576cd0b3c7c9a7"
      },
      "cell_type": "markdown",
      "source": "> Thse who code as a hobby are more likely to contribute to Open source"
    },
    {
      "metadata": {
        "_uuid": "eb231f66ef1f5b3465f11e539c88278909606dfd"
      },
      "cell_type": "markdown",
      "source": "# Student or Not ?"
    },
    {
      "metadata": {
        "_uuid": "2dd5da1d907dd4356fbac2309cadf5c065b74606",
        "trusted": false
      },
      "cell_type": "code",
      "source": "plot_categorical_count(df, 'Student', title='Number Of Student', limit=3)",
      "execution_count": null,
      "outputs": []
    },
    {
      "metadata": {
        "_uuid": "c11b1c68e2b88ca3db3c29cc41d83d58f2cd3615"
      },
      "cell_type": "markdown",
      "source": " > Majority of respondants were not student."
    },
    {
      "metadata": {
        "_uuid": "45f40b3d1c66db9720d280f52d49a80bf15d536c"
      },
      "cell_type": "markdown",
      "source": "# Employement Status"
    },
    {
      "metadata": {
        "_uuid": "d3258432545606354b9c78e3e89d125ee90e6f40",
        "trusted": false
      },
      "cell_type": "code",
      "source": "plot_categorical_count(df, 'Employment', title='Employement Statues of respondants', limit=6, xtick_rotation='vertical')",
      "execution_count": null,
      "outputs": []
    },
    {
      "metadata": {
        "_uuid": "1ddffb851e2bef9680a2b9e848dc6e0bc11b39ca"
      },
      "cell_type": "markdown",
      "source": "> Majority of respondants are working full time"
    },
    {
      "metadata": {
        "_uuid": "9f8196634f6758a4b40daeed00390385f79a404e"
      },
      "cell_type": "markdown",
      "source": "# Male vs Female"
    },
    {
      "metadata": {
        "_uuid": "622db36c41307a68fa72cb88b6948edd11865b71",
        "trusted": false
      },
      "cell_type": "code",
      "source": "plot_categorical_count(df, 'Gender', title='number of respondents per Gender')",
      "execution_count": null,
      "outputs": []
    },
    {
      "metadata": {
        "_uuid": "6e3ad16b2b68c43f983be32fa3e4d8e2a792d715"
      },
      "cell_type": "markdown",
      "source": "> We see that the majority of respondents were male"
    },
    {
      "metadata": {
        "_uuid": "a9674dbe6d89238c011a29bda23862c669db5a23",
        "collapsed": true
      },
      "cell_type": "markdown",
      "source": "# When do developpers wake up ?"
    },
    {
      "metadata": {
        "_uuid": "633983243ea37c2b9c661dbcce26abdf2b3abc52",
        "trusted": false
      },
      "cell_type": "code",
      "source": "plot_categorical_count(df, 'WakeTime', title='Wake up time', limit=11, xtick_rotation='vertical')",
      "execution_count": null,
      "outputs": []
    },
    {
      "metadata": {
        "_uuid": "e7b682777496cb678c6e613bb730376335d4ba05"
      },
      "cell_type": "markdown",
      "source": "> We can see that the majority of developpers wake up between 6:01 - 8:00 Am\n> There is also a good amount of developper who wake up between 8:01 - 9:00 AM and between 5:00 - 6:00"
    },
    {
      "metadata": {
        "_uuid": "3db5f9ba6131e59bc4bdd849c22c85639a5dece0"
      },
      "cell_type": "markdown",
      "source": "# Respondents majors"
    },
    {
      "metadata": {
        "_uuid": "8a763981ab3135b4cf739a5fdfc52623bcd5b8cb",
        "trusted": false
      },
      "cell_type": "code",
      "source": "plot_categorical_count(df, 'UndergradMajor', 'Majors count', limit=100, xtick_rotation='vertical')",
      "execution_count": null,
      "outputs": []
    },
    {
      "metadata": {
        "_uuid": "4fe3286907b27b59668bc9a6cdecd9d1166e6c07"
      },
      "cell_type": "markdown",
      "source": "> As expected, the computer-related majors are dominating in the Stack overflow community"
    },
    {
      "metadata": {
        "_uuid": "14c280a3896cec5bdd350186b1fbf4588e834d10"
      },
      "cell_type": "markdown",
      "source": "# Professional life in the Top 10 Countries\n* In this section, we'll get a deeper look at the professional life in the top 10 countries participating in the survey"
    },
    {
      "metadata": {
        "_uuid": "d87c303159c8a0de9987dc2cb9ffd4e76d7f59d3"
      },
      "cell_type": "markdown",
      "source": "# Job Satisfaction in the top 10 countries"
    },
    {
      "metadata": {
        "_uuid": "211824731d2ed47d0b16968f9a02f65a6583e4a2",
        "trusted": false
      },
      "cell_type": "code",
      "source": "top_10_list = list(df['Country'].value_counts()[:10].index)\ndef st_not(row):\n    if 'dissatisfied' in row:\n        return 'Dissatisfied'\n    return 'Satisfied'\n\ndf['sat_or_not'] = df['JobSatisfaction'].dropna().map(st_not)\n#sat = df[np.logical_or(np.logical_or(df['JobSatisfaction'] == 'Moderately satisfied', df['JobSatisfaction'] == 'Extremely satisfied'), df['JobSatisfaction'] == 'Slightly satisfied')]\ntop10_df = df.where(df['Country'].isin(top_10_list))\nsat_count = pd.DataFrame()\nnames = []\nsat = []\ndisat = []\nfor name, group in top10_df.groupby('Country'):\n    names.append(name)\n    country_count = group['sat_or_not'].value_counts()\n    sat.append(country_count['Satisfied'])\n    \n    #sat_count['Satisfied'] = country_count['Satisfied']\n    #sat_count['Dissatisfied'] = country_count['Dissatisfied']\nsat_count['Country'] = names\n    #plt.figure(figsize=(14, 8))\n#plt.plot(sat_count)\n#sns.countplot(data=df, x='Country', hue='sat_or_not', palette='Paired', order=df['Country'].value_counts()[:10].index)\n#sns.despine(left=True)\n#plt.xticks(rotation='vertical')\nsat_count",
      "execution_count": null,
      "outputs": []
    },
    {
      "metadata": {
        "_uuid": "aeab93302d396d30df00b4a61d0e1686e61fad78",
        "trusted": false
      },
      "cell_type": "code",
      "source": "df['JobSatisfaction'].value_counts()\nsat = df[np.logical_or(np.logical_or(df['JobSatisfaction'] == 'Moderately satisfied', df['JobSatisfaction'] == 'Extremely satisfied'), df['JobSatisfaction'] == 'Slightly satisfied')]\n\nplt.figure(figsize=(14, 8))\nsns.countplot(data=sat, x='Country', hue='JobSatisfaction', palette='Paired', order=sat['Country'].value_counts()[:10].index)\nsns.despine(left=True)\nplt.xticks(rotation='vertical')",
      "execution_count": null,
      "outputs": []
    },
    {
      "metadata": {
        "_uuid": "899a77bccce2ff052c74a1f7631b7b3cd86aaa9d"
      },
      "cell_type": "markdown",
      "source": "> In the Top 10 countires, Developpers are moderatly satisfied with their jobs"
    },
    {
      "metadata": {
        "_uuid": "3daddb90253b4d5e717c08cc1c9271feaebd6fa8"
      },
      "cell_type": "markdown",
      "source": "# Career Satisfaction"
    },
    {
      "metadata": {
        "_uuid": "ef81433c7aedd6006bda2a8dba2be42c46b3c165",
        "trusted": false
      },
      "cell_type": "code",
      "source": "df['CareerSatisfaction'].value_counts()\nsat = df[np.logical_or(np.logical_or(df['CareerSatisfaction'] == 'Moderately satisfied', df['CareerSatisfaction'] == 'Extremely satisfied'), df['CareerSatisfaction'] == 'Slightly satisfied')]\n\nplt.figure(figsize=(14, 8))\nsns.countplot(data=sat, x='Country', hue='CareerSatisfaction', palette='Paired', order=sat['Country'].value_counts()[:10].index)\nsns.despine(left=True)\nplt.xticks(rotation='vertical')",
      "execution_count": null,
      "outputs": []
    },
    {
      "metadata": {
        "_uuid": "f1a70cee973333e58e4ae28a6a58b4d38924f613"
      },
      "cell_type": "markdown",
      "source": "# Salaries"
    },
    {
      "metadata": {
        "_uuid": "5c9c649c59cb23ef5ee0bb1148464a0fa50c2fc9",
        "trusted": false
      },
      "cell_type": "code",
      "source": "plt.figure(figsize=(14, 12))\ndf_top10 = df.where(df['Country'].isin(top_10_list))\n\nsns.boxplot(data=df_top10, x='ConvertedSalary', y='Country', palette='Paired')\nplt.title('Salary Distribution in the Top 10 Countries', fontsize=16)\nsns.despine(left=True)",
      "execution_count": null,
      "outputs": []
    },
    {
      "metadata": {
        "_uuid": "8413474fb192133506ac17285f178707d69b3d76"
      },
      "cell_type": "markdown",
      "source": "> We see that USA developpers are the most paid, while indian developpers are the worst."
    },
    {
      "metadata": {
        "_uuid": "2ef6eeee1398d3444b5c878e0e4b30112d7ade10"
      },
      "cell_type": "markdown",
      "source": "# Productivity time"
    },
    {
      "metadata": {
        "_uuid": "5e9e0f4feff35d699ce4cf0f7a79fd87b0f74776",
        "trusted": false
      },
      "cell_type": "code",
      "source": "fig, axes = plt.subplots(10, 1, figsize=(14, 34))\n\nfor ax, country in zip(axes, top_10_list):\n    data = df[df['Country'] == country]\n    sns.countplot(data=data, x='TimeFullyProductive', palette='Paired', ax=ax, order=data['TimeFullyProductive'].value_counts().index)\n    ax.set_title('Productivity time in {}'.format(country), fontsize=16)\n    #plt.xticks(rotation='vertical')\n    sns.despine(left=True)\nplt.subplots_adjust(hspace=.6)",
      "execution_count": null,
      "outputs": []
    },
    {
      "metadata": {
        "_uuid": "d22efe3655e091b74bde9d81c4f8b2bcca64b077"
      },
      "cell_type": "markdown",
      "source": "# Years coding professionally"
    },
    {
      "metadata": {
        "_uuid": "8d3b56681c6560ee052fca015d51f70bbba51d31",
        "trusted": false
      },
      "cell_type": "code",
      "source": "fig, axes = plt.subplots(10, 1, figsize=(14, 34))\n\nfor ax, country in zip(axes, top_10_list):\n    data = df[df['Country'] == country]\n    sns.countplot(data=data, x='YearsCodingProf', palette='Paired', ax=ax, order=data['YearsCodingProf'].value_counts().index)\n    ax.set_title('Years coding professionally in {}'.format(country), fontsize=16)\n    #plt.xticks(rotation='vertical')\n    sns.despine(left=True)\nplt.subplots_adjust(hspace=.6)",
      "execution_count": null,
      "outputs": []
    },
    {
      "metadata": {
        "_uuid": "f65480abdad891326740f3e9fd4de29f803959c4"
      },
      "cell_type": "markdown",
      "source": "# Importance of different job aspects to assess a potential job offer in the top 10 countries"
    },
    {
      "metadata": {
        "_uuid": "17842ecb699192d7822c2b4d3254d361aea5f81d"
      },
      "cell_type": "markdown",
      "source": "# Importance of the industry to work in"
    },
    {
      "metadata": {
        "_uuid": "2a2048dc9d11bd5491fe7acb74687bb1c5cab9cb",
        "trusted": false
      },
      "cell_type": "code",
      "source": "top10_df = df.where(df['Country'].isin(top_10_list))\nplot_heatmap(top10_df, 'AssessJob1')    \nplt.title('Importance of Industry to assess potential job', fontsize=18)",
      "execution_count": null,
      "outputs": []
    },
    {
      "metadata": {
        "_uuid": "816e431f17491c9f6c76f9915d24627a58d83cb3"
      },
      "cell_type": "markdown",
      "source": "> *  It seems like the industry to work in is not an important factor for developpers to assess a potential job oppotunity.\n* indian developpers seems to give the most importance to the industry to work for, in assessing a potential job offer."
    },
    {
      "metadata": {
        "_uuid": "1bf0bd67e901fc56651749a4e8f144b8d4a5f12e"
      },
      "cell_type": "markdown",
      "source": "# Importance of The financial performance or funding status of the company or organization"
    },
    {
      "metadata": {
        "_uuid": "071449a9efa935805a12135ad1b69ee3b918fe35",
        "trusted": false
      },
      "cell_type": "code",
      "source": "plot_heatmap(top10_df, 'AssessJob2')    \nplt.title('Importance of financial performance to assess potential job', fontsize=18)",
      "execution_count": null,
      "outputs": []
    },
    {
      "metadata": {
        "_uuid": "d65890adde0ed29eaf691103ab0b9f32b5d2b55e"
      },
      "cell_type": "markdown",
      "source": "> * We can see that the financial statut of the company is not that important to developpers to assess a potential job offer.\n* French develoopers seems to give the less importance to the financial statut of the company than developpers in the other 9 country. "
    },
    {
      "metadata": {
        "_uuid": "09252d862edc50248657a20e1e8b1ccfc3a9a44e"
      },
      "cell_type": "markdown",
      "source": "# Importance of The specific department or team to be working on\n"
    },
    {
      "metadata": {
        "_uuid": "9668565c1f25dc4f3941118f82f47cb7a8a40cb2",
        "trusted": false
      },
      "cell_type": "code",
      "source": "plot_heatmap(top10_df, 'AssessJob3')    \nplt.title('Importance of the department or team to be working on', fontsize=18)",
      "execution_count": null,
      "outputs": []
    },
    {
      "metadata": {
        "_uuid": "d70ebbd134621a514126aba3d73b34d78a61e505"
      },
      "cell_type": "markdown",
      "source": "> * We can see that the departement or the team to be working in is slightly important to assess a potential job offer.\n* German developpers give the most importance to the departement or the team to be working in.\n* Brazilian developpers give the less importance to the departement or the team to be working in."
    },
    {
      "metadata": {
        "_uuid": "de2ee1c3d1db5cf77613cf5b46dbda0304b85b76"
      },
      "cell_type": "markdown",
      "source": "# Importance of The languages, frameworks, and other technologies"
    },
    {
      "metadata": {
        "_uuid": "8ccbd8d6334fbc2790bca600a26ff9f64a573718",
        "trusted": false
      },
      "cell_type": "code",
      "source": "plot_heatmap(top10_df, 'AssessJob4')    \nplt.title('Importance of The languages, frameworks, and other technologies', fontsize=18)",
      "execution_count": null,
      "outputs": []
    },
    {
      "metadata": {
        "_uuid": "cd904f24ec7142c1ae28e2f2e2ad17ce37e9c07c"
      },
      "cell_type": "markdown",
      "source": "> * We can see that languages, frameworks or technologies is an important facotor for developpers in the 10 countries to assess a potential job offer.\n* Frensh developers seem to give the most importance to languages, frameworks or technologies to work with."
    },
    {
      "metadata": {
        "_uuid": "e3ebe2a8755fcafb18e29f02867ad43a67898927"
      },
      "cell_type": "markdown",
      "source": "# Importance of The compensation and benefits offered"
    },
    {
      "metadata": {
        "_uuid": "c7aa4f98833affc629a10b74a6db92e307766c20",
        "trusted": false
      },
      "cell_type": "code",
      "source": "plot_heatmap(top10_df, 'AssessJob5')    \nplt.title('Importance of compensation and benefits offered', fontsize=18)",
      "execution_count": null,
      "outputs": []
    },
    {
      "metadata": {
        "_uuid": "bac0d91a3be3635b2eeec1eeb0748d87f6499c41"
      },
      "cell_type": "markdown",
      "source": "> * Compensations and benefits play an important role for developers in the 10 countries to assess a potential job offer.\n* American, Canadian, and Australian developers are the one who give the most importance to compensastion and benefits among developers in the 10 countries."
    },
    {
      "metadata": {
        "_uuid": "0e9688468bbf0fa6931dc24aca92ac7859ba0e1e"
      },
      "cell_type": "markdown",
      "source": "# Importance of The office environment or company culture"
    },
    {
      "metadata": {
        "_uuid": "78b4da110cfcc740b17afca0e4f86941314b5f24",
        "trusted": false
      },
      "cell_type": "code",
      "source": "plot_heatmap(top10_df, 'AssessJob6')    \nplt.title('Importance of The office environment or company culture', fontsize=18)",
      "execution_count": null,
      "outputs": []
    },
    {
      "metadata": {
        "_uuid": "296ff2f92b7a6f23051ed28e6526fdef02f307a3"
      },
      "cell_type": "markdown",
      "source": "> * office environment or company culture is so important for developers in the 10 countries to ass a potential job.\n* It seems like russian developers are the ones who less value the importance of the office environment or company culture."
    },
    {
      "metadata": {
        "_uuid": "c81a0066ed6df4c2c2dcb016ac914238bf2fae59"
      },
      "cell_type": "markdown",
      "source": "# Importance of The opportunity to work from home/remotely"
    },
    {
      "metadata": {
        "_uuid": "afd3a77e1cc4cb98de744b40cbd856b46ef179b2",
        "trusted": false
      },
      "cell_type": "code",
      "source": "plot_heatmap(top10_df, 'AssessJob7')    \nplt.title('Importance of The opportunity to work from home/remotely', fontsize=18)",
      "execution_count": null,
      "outputs": []
    },
    {
      "metadata": {
        "_uuid": "1f206a2ffdef12770a82ef8632d8486be03a7aa9"
      },
      "cell_type": "markdown",
      "source": "> * Working from home or remotly seems very uninteresting for indian developers.\n* Developers on the other countries doesn't care so much about working remotly. \n* brazilian developers seems to be interesting in working remotely."
    },
    {
      "metadata": {
        "_uuid": "1ea7961333704519c9dca4284d3ec8a756f66280"
      },
      "cell_type": "markdown",
      "source": "# Importance of Opportunities for professional development"
    },
    {
      "metadata": {
        "_uuid": "8cca61e48b7e59acb09c2cdb5eda362797d5c8aa",
        "trusted": false
      },
      "cell_type": "code",
      "source": "plot_heatmap(top10_df, 'AssessJob8')    \nplt.title('Importance of Opportunities for professional development', fontsize=18)",
      "execution_count": null,
      "outputs": []
    },
    {
      "metadata": {
        "_uuid": "cb14fe60059c2371cd6c30c7eaacddf1ae386da2"
      },
      "cell_type": "markdown",
      "source": "> * Opportunities for professional development is an important factors for developers in the 10 countries to assess a potential job offer.\n* Brazilian, polish and russian developers are the ones who give the most importance of Opportunities for professional development."
    },
    {
      "metadata": {
        "_uuid": "16347840e2b01d8c44d4ab7e5832804e0630f5b4"
      },
      "cell_type": "markdown",
      "source": "# Importance of The diversity of the company or organization"
    },
    {
      "metadata": {
        "_uuid": "1408fec9ddd3082d26a14358acf0e341d3f387e7",
        "scrolled": true,
        "trusted": false
      },
      "cell_type": "code",
      "source": "plot_heatmap(top10_df, 'AssessJob9')    \nplt.title('Importance of The diversity of the company or organization', fontsize=18)",
      "execution_count": null,
      "outputs": []
    },
    {
      "metadata": {
        "_uuid": "6e83c928802d7d369afe0e0686915c24415f973d"
      },
      "cell_type": "markdown",
      "source": "> * Developers in the 10 countries don't care that much about the diversity of the company."
    },
    {
      "metadata": {
        "_uuid": "99935402538db0e1f6810b9ee44f82c3a31cfb36"
      },
      "cell_type": "markdown",
      "source": "# Importance of How widely used or impactful the product or service"
    },
    {
      "metadata": {
        "_uuid": "ce681085af425b819435af75ba33ee39b537e6fd",
        "trusted": false
      },
      "cell_type": "code",
      "source": "plot_heatmap(top10_df, 'AssessJob10')    \nplt.title('Importance of How widely used or impactful the product or service', fontsize=18)",
      "execution_count": null,
      "outputs": []
    },
    {
      "metadata": {
        "_uuid": "58c9b5f193651c7a33c7bd4669364963033554cb"
      },
      "cell_type": "markdown",
      "source": "> * The impact of the product or the service to be working doesn't seem to be an important factor in assessing a potential job offer.\n* Indian developers seems to give the most importance to the product or the service to be working in. "
    },
    {
      "metadata": {
        "_uuid": "a0fc181fa36fdb3f5eca962c1a42dae67c63000a"
      },
      "cell_type": "markdown",
      "source": "# Job assessement comparaison by country"
    },
    {
      "metadata": {
        "trusted": false,
        "_uuid": "716a974062abc067b36b35eadfcd8e4e38e6de08"
      },
      "cell_type": "code",
      "source": "job_assesement = [\n    'AssessJob1', 'AssessJob2', 'AssessJob3', 'AssessJob4', 'AssessJob5', \n    'AssessJob6','AssessJob7', 'AssessJob8', 'AssessJob9', 'AssessJob10'\n]\nff = top10_df.groupby('Country').mean()[job_assesement].reset_index()\nff_p = ff.pivot_table(columns='Country')\nplt.figure(figsize=(14, 8))\nfor country in top_10_list:\n    plt.plot(ff_p[country], label=country)\nplt.legend()\nsns.despine(left=True)\nplt.title('Job assessement comparaison by country', fontsize=21)",
      "execution_count": null,
      "outputs": []
    },
    {
      "metadata": {
        "_uuid": "8adc437ea5c59234bca282ddc2e48969694def01"
      },
      "cell_type": "markdown",
      "source": "> * We can see that the importance of the differnet aspects of a job opportunity is similaire in the ten countries.\n* The languages, frameworks, and other technologies to work with, The compensation and benefits offered, The office environment or company culture and the Opportunities for professional development are the most important aspects to assess a potential job offer.\n"
    },
    {
      "metadata": {
        "_uuid": "742ef84a44bac655dcbfb5219f0c4b91aab8b247"
      },
      "cell_type": "markdown",
      "source": "# Importance of different benefits package aspects to assess a potential job offer"
    },
    {
      "metadata": {
        "_uuid": "0eb25c985a25b70ef085a9bbdc63843cfb3347ac"
      },
      "cell_type": "markdown",
      "source": "# Importance of the Salary and/or bonuses"
    },
    {
      "metadata": {
        "trusted": false,
        "_uuid": "e9b717b7cd2fc18ff3ca54067e1a94978619896a"
      },
      "cell_type": "code",
      "source": "plot_heatmap(top10_df, 'AssessBenefits1')    \nplt.title('Importance of the Salary and/or bonuses', fontsize=18)",
      "execution_count": null,
      "outputs": []
    },
    {
      "metadata": {
        "_uuid": "10384cf75386111f9c129a840f208e04fb5416f6"
      },
      "cell_type": "markdown",
      "source": "> * It seems like the salary and/or the bonuse is the most important factors for developers to assess a potential job offer."
    },
    {
      "metadata": {
        "_uuid": "4780f6b3f1ccba896665b4aefd43d77bd3e74320"
      },
      "cell_type": "markdown",
      "source": "# Importance of Stock options or shares"
    },
    {
      "metadata": {
        "trusted": false,
        "_uuid": "ff1322f3ceedfd1737671a04c44ac5e4da892561"
      },
      "cell_type": "code",
      "source": "plot_heatmap(top10_df, 'AssessBenefits2')    \nplt.title('Importance of Stock options or shares', fontsize=18)",
      "execution_count": null,
      "outputs": []
    },
    {
      "metadata": {
        "_uuid": "aa3a7074fb7f841f01bb17cd4b2e00d31e5e6bdf"
      },
      "cell_type": "markdown",
      "source": "> * Stock options or shares seems to be somewhat important in assessing a potential job offer.\n* Among developers in the 10 country, german developers are the ones who less value the importance of stock options and shares, while australian developers seems to be the opposite."
    },
    {
      "metadata": {
        "_uuid": "11462cf7f2a2dfc4572e463cef4a544e383150d7"
      },
      "cell_type": "markdown",
      "source": "# Importance of Health insurance"
    },
    {
      "metadata": {
        "trusted": false,
        "_uuid": "8330fabd810e139a34caa15b2a23e8fc07247e25"
      },
      "cell_type": "code",
      "source": "plot_heatmap(top10_df, 'AssessBenefits3')    \nplt.title('Importance of of Health insurance', fontsize=18)",
      "execution_count": null,
      "outputs": []
    },
    {
      "metadata": {
        "_uuid": "c8a8d93152d09da648489fd685dcc776f5c816ad"
      },
      "cell_type": "markdown",
      "source": "> Offering Health insurance might be the second important factor for developers in the 10 countries to assess potential job's benefits package."
    },
    {
      "metadata": {
        "_uuid": "77e99ab8a7310ae17ca712e12218a1adf71586be"
      },
      "cell_type": "markdown",
      "source": "# Importance of Parental leave"
    },
    {
      "metadata": {
        "trusted": false,
        "_uuid": "8bdf61b85091f71a3400723a4125348109d31765"
      },
      "cell_type": "code",
      "source": "plot_heatmap(top10_df, 'AssessBenefits4')    \nplt.title('Importance of of Health insurance', fontsize=18)",
      "execution_count": null,
      "outputs": []
    },
    {
      "metadata": {
        "_uuid": "7e49792a3334b690509e4518fd7c46af38721563"
      },
      "cell_type": "markdown",
      "source": "> * offering parental leave and is not that importance in assessing job's benefits package."
    },
    {
      "metadata": {
        "_uuid": "d8726b06c5fdd6ae90bcd6c617b30582e30c6bae"
      },
      "cell_type": "markdown",
      "source": "# Importance of Fitness or wellness benefit"
    },
    {
      "metadata": {
        "trusted": false,
        "_uuid": "8fb319608075e1a8687c951e78cedeec33088fda"
      },
      "cell_type": "code",
      "source": "plot_heatmap(top10_df, 'AssessBenefits5')    \nplt.title('Importance of Fitness or wellness benefit', fontsize=18)",
      "execution_count": null,
      "outputs": []
    },
    {
      "metadata": {
        "_uuid": "da0c3183805e799e7a77ef512795fb1caa50607a"
      },
      "cell_type": "markdown",
      "source": "> * Offering Fitness or wellness benefits seems slightly important for developers in the 10 countries.\n* Frensh and German developers are the ones who value the less offering Fitness or wellness benefits."
    },
    {
      "metadata": {
        "_uuid": "3fc38d652a457faf5ac0768c0a49f0aa22c89aae"
      },
      "cell_type": "markdown",
      "source": "# Importance of Retirement or pension savings matching"
    },
    {
      "metadata": {
        "trusted": false,
        "_uuid": "f0e9d3907f7ac54b12e17c6bb839c8d9979d5b41"
      },
      "cell_type": "code",
      "source": "plot_heatmap(top10_df, 'AssessBenefits6')    \nplt.title('Importance of  Retirement or pension savings matching', fontsize=18)",
      "execution_count": null,
      "outputs": []
    },
    {
      "metadata": {
        "_uuid": "72e4af44b996e865f2348fd99de98a1726a6b8d1"
      },
      "cell_type": "markdown",
      "source": "> * Offering  Retirement or pension savings matching, seems very important for americain and england developers.\n* While for the other 8 countries, is not that important."
    },
    {
      "metadata": {
        "_uuid": "77bef0dfbb33610b1b80473c6e4ae048016abd6c"
      },
      "cell_type": "markdown",
      "source": "# Importance of Company-provided meals or snacks"
    },
    {
      "metadata": {
        "trusted": false,
        "_uuid": "7d0b31b31aec1454d0ed200a8cf6167b6544ad74"
      },
      "cell_type": "code",
      "source": "plot_heatmap(top10_df, 'AssessBenefits7')    \nplt.title('Importance of Company-provided meals or snacks', fontsize=18)",
      "execution_count": null,
      "outputs": []
    },
    {
      "metadata": {
        "_uuid": "e2363f80f5b07aa52f042b0ec89c8f3b0a3b85ec"
      },
      "cell_type": "markdown",
      "source": "> * Providing meals or snacks seems to be valued by developers in the 10 countries.\n* Canadian and american developers are the ones who give the less value for providing meals or snacks to assess a potential job offer."
    },
    {
      "metadata": {
        "_uuid": "07730143daeb4f4e4fc272336c01d049a3b9e3c8"
      },
      "cell_type": "markdown",
      "source": "# Importance of Computer/office equipment allowance"
    },
    {
      "metadata": {
        "trusted": false,
        "_uuid": "568f3772c7251b0dd733c3ca248956523fb153e5"
      },
      "cell_type": "code",
      "source": "plot_heatmap(top10_df, 'AssessBenefits8')    \nplt.title('Importance of Computer/office equipment allowance', fontsize=18)",
      "execution_count": null,
      "outputs": []
    },
    {
      "metadata": {
        "_uuid": "b4b7922e07540d557642cba4e6da16af68f2e96d"
      },
      "cell_type": "markdown",
      "source": "> * Computer/Office equipement is important for developers to assess a potential job offer.\n* Russian, Australian and Frensh developers seems to be the one who value the most computer/office equipement."
    },
    {
      "metadata": {
        "_uuid": "e7319a5f613b9b6c9d0fcae34c818a4254145ac0"
      },
      "cell_type": "markdown",
      "source": "# Importance of offering Childcare benefit"
    },
    {
      "metadata": {
        "trusted": false,
        "_uuid": "bcdbf0899b51d5fb52b8d30d288c3f8bde0bec24"
      },
      "cell_type": "code",
      "source": "plot_heatmap(top10_df, 'AssessBenefits9')    \nplt.title('Importance of Computer/office equipment allowance', fontsize=18)",
      "execution_count": null,
      "outputs": []
    },
    {
      "metadata": {
        "_uuid": "8de3bb690c94422fd854c568618fda2b706dd9ac"
      },
      "cell_type": "markdown",
      "source": "> * Offering childcare benefit is not that important for developers to assess benefit package."
    },
    {
      "metadata": {
        "_uuid": "b4f043354dcb0cbdfabe4ac83dbce5b03dd87761"
      },
      "cell_type": "markdown",
      "source": "# Importance of Transportation benefit "
    },
    {
      "metadata": {
        "trusted": false,
        "_uuid": "f5b9193105e072cb074d6180271b79caa6f983a1"
      },
      "cell_type": "code",
      "source": "plot_heatmap(top10_df, 'AssessBenefits10')    \nplt.title('Importance of Transportation benefit', fontsize=18)",
      "execution_count": null,
      "outputs": []
    },
    {
      "metadata": {
        "_uuid": "aedab92bce8f4bc1150aab0ee1700a212cf7d761"
      },
      "cell_type": "markdown",
      "source": "> * Offering transportation benefits seems a bit important for developers "
    },
    {
      "metadata": {
        "_uuid": "e1961ac471272415f27ca1bf40ab04df13c00d0b"
      },
      "cell_type": "markdown",
      "source": "# Importance of Conference or education budget"
    },
    {
      "metadata": {
        "trusted": false,
        "_uuid": "c7d07b1daf30f8a1b2c51466324a4cf9455dd98a"
      },
      "cell_type": "code",
      "source": "plot_heatmap(top10_df, 'AssessBenefits11')    \nplt.title('Importance of Conference or education budget', fontsize=18)",
      "execution_count": null,
      "outputs": []
    },
    {
      "metadata": {
        "_uuid": "c3f14f38d3c64460dad3e7f7e0cbb84e05ceef12"
      },
      "cell_type": "markdown",
      "source": "> * Offering conference/education budget seems sligghtly important to developers.\n* Polish developers are the ones who give conference/education budget the most value."
    },
    {
      "metadata": {
        "_uuid": "62f723af6c8031cd12856292b286ac2b6a8822ef"
      },
      "cell_type": "markdown",
      "source": "# Benefits assessement comparaison"
    },
    {
      "metadata": {
        "scrolled": true,
        "trusted": false,
        "_uuid": "7cfa7e9664f83b871157940ad1f87fbb27f24dbd"
      },
      "cell_type": "code",
      "source": "benefits_assesement = [\n    'AssessBenefits1', 'AssessBenefits2', 'AssessBenefits3', 'AssessBenefits4', 'AssessBenefits5', \n    'AssessBenefits6','AssessBenefits7', 'AssessBenefits8', 'AssessBenefits9', 'AssessBenefits10', 'AssessBenefits11'\n]\n\nff = top10_df[benefits_assesement].mode()#.groupby('Country').mean()[benefits_assesement].reset_index()\nff_p = ff.pivot_table(columns='Country')\nplt.figure(figsize=(14, 8))\n#for country in top_10_list:\n #   plt.plot(ff_p[country], label=country)\n#plt.legend()\nff = pd.Series(index=ff.columns, data=ff.values[0])\nplt.bar(ff.index, ff)\nsns.despine(left=True)\nplt.title('Benefits assessement comparaison', fontsize=21)\n_ = plt.xticks(rotation='vertical')\n#top10_df['AssessBenefits6'].mode()\n",
      "execution_count": null,
      "outputs": []
    },
    {
      "metadata": {
        "_uuid": "ace9321714480cc3745fc8ca382e65b88312be79"
      },
      "cell_type": "markdown",
      "source": "> * We see that salary/bonuses is the moste important aspect in assessing a job's benefits package.\n* Stock Options/Shares, health insurance and Retirement or pension savings matching are the next most important aspect in assessing a job's benefits package.\n* Computer/office equipment allowance and Conference or education budget seems to be somewhat important in assessing a job's benefits package.\n* Other aspect of jobs benefits package don't seem that important in assessing a job's benefits package."
    },
    {
      "metadata": {
        "_uuid": "841377511c0ad062b8513b253a23a683671e968e"
      },
      "cell_type": "markdown",
      "source": "# Personal life in the top 10 countries\n* In this section, we'll try to get a deeper look at the developers peronal life in the top 10 countries taking the survey"
    },
    {
      "metadata": {
        "_uuid": "4306dee5d96ee33f62f7e2c7b60e689e006b2800"
      },
      "cell_type": "markdown",
      "source": "# Wake up time in the top 10 countries"
    },
    {
      "metadata": {
        "_uuid": "f5763ddbdf4b507592dcba65246ad3279e1ed1bc",
        "trusted": false
      },
      "cell_type": "code",
      "source": "earlybirds = df[np.logical_or(np.logical_or(df['WakeTime'] == 'Between 7:01 - 8:00 AM', df['WakeTime'] == 'Between 6:01 - 7:00 AM'), df['WakeTime'] == 'Between 5:00 - 6:00 AM')] \n\nplt.figure(figsize=(14, 8))\nsns.countplot(data=earlybirds, x='Country', hue='WakeTime', palette='Paired', order=earlybirds['Country'].value_counts()[:10].index)\nsns.despine(left=True)\nplt.xticks(rotation='vertical')\n",
      "execution_count": null,
      "outputs": []
    },
    {
      "metadata": {
        "_uuid": "46cd18c1a0516e4a035756e8f5ea15c9a91afe63",
        "collapsed": true
      },
      "cell_type": "markdown",
      "source": "> We can see that most developpers in the top 10 countries wake up between 6 AM and 8 AM"
    },
    {
      "metadata": {
        "_uuid": "eab1e2cc5ecc4977df44c83c6a5d1a3d81ec04be"
      },
      "cell_type": "markdown",
      "source": "# Hours spent on the computer"
    },
    {
      "metadata": {
        "_uuid": "11fcd7e8c85f949e491bd188cfbb0a2e6eccee94",
        "trusted": false
      },
      "cell_type": "code",
      "source": "sat = df\nplt.figure(figsize=(14, 8))\nsns.countplot(data=sat, x='Country', hue='HoursComputer', palette='Paired', order=sat['Country'].value_counts()[:10].index)\nsns.despine(left=True)\nplt.xticks(rotation='vertical')",
      "execution_count": null,
      "outputs": []
    },
    {
      "metadata": {
        "_uuid": "643680aba0335b6fca2dafa545fb7bf0736868bc"
      },
      "cell_type": "markdown",
      "source": "> Most developpers spent between 5 and 12 hours on the computer."
    },
    {
      "metadata": {
        "_uuid": "5f79404291c6d724d6488dbd908f27941238b8f1"
      },
      "cell_type": "markdown",
      "source": "# Hours outside"
    },
    {
      "metadata": {
        "_uuid": "7a841095ce39c173eaee54476387d56c9456833b",
        "trusted": false
      },
      "cell_type": "code",
      "source": "sat = df\nplt.figure(figsize=(14, 8))\nsns.countplot(data=sat, x='Country', hue='HoursOutside', palette='Paired', order=sat['Country'].value_counts()[:10].index)\nsns.despine(left=True)\nplt.xticks(rotation='vertical')",
      "execution_count": null,
      "outputs": []
    },
    {
      "metadata": {
        "_uuid": "392dfda2d702a88ada50464ba1bd2201c763eae7"
      },
      "cell_type": "markdown",
      "source": "> * Except for india, in the other top 9 countries, most developpers are spending less than 2 hours outside.\n> * In india, We can see that there is a high number of developpers who spent 3 to 4 hours outside, event the number of those who spent more than 4 hours outside is high if we compare it to the other countries."
    },
    {
      "metadata": {
        "_uuid": "6570488570b3eaa1607d9bfa56a66c623036f671"
      },
      "cell_type": "markdown",
      "source": "# Who's skipping their meals ?"
    },
    {
      "metadata": {
        "_uuid": "bdbaf3441a4746b9f273dda17d47ca9b2944e0cf",
        "trusted": false
      },
      "cell_type": "code",
      "source": "plt.figure(figsize=(14, 8))\nsns.countplot(data=df, x = 'Country', hue='SkipMeals', palette='Paired', order=df['Country'].value_counts()[:10].index)\nsns.despine(left=True)",
      "execution_count": null,
      "outputs": []
    },
    {
      "metadata": {
        "_uuid": "df3d293c0d675f8cfe37e19e8e255927b0230d20"
      },
      "cell_type": "markdown",
      "source": "> We can see the same pattern fot the top 10 countries, in which the majority of developpers never skip any meals"
    },
    {
      "metadata": {
        "_uuid": "64b7da99321a97954029897fe3a99ea4d2d522ed"
      },
      "cell_type": "markdown",
      "source": "# Exercising"
    },
    {
      "metadata": {
        "_uuid": "4ccb986babc6ee02b8e26243a3bab13c50c1eb02",
        "trusted": false
      },
      "cell_type": "code",
      "source": "plt.figure(figsize=(14, 8))\nsns.countplot(data=df, x='Country', hue='Exercise', palette='Paired', order=df['Country'].value_counts()[:10].index)\nsns.despine(left=True)",
      "execution_count": null,
      "outputs": []
    },
    {
      "metadata": {
        "_uuid": "b40bcbc0ff272ee198d2ed733072ca5c8739bf9d"
      },
      "cell_type": "markdown",
      "source": "> * Developpers do not typically exercice, or are excercicing for 1-2 times a week which is not enough."
    }
  ],
  "metadata": {
    "kernelspec": {
      "display_name": "Python 3",
      "language": "python",
      "name": "python3"
    },
    "language_info": {
      "name": "python",
      "version": "3.6.6",
      "mimetype": "text/x-python",
      "codemirror_mode": {
        "name": "ipython",
        "version": 3
      },
      "pygments_lexer": "ipython3",
      "nbconvert_exporter": "python",
      "file_extension": ".py"
    }
  },
  "nbformat": 4,
  "nbformat_minor": 1
}